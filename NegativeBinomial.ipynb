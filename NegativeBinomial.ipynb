{
 "cells": [
  {
   "cell_type": "code",
   "execution_count": 4,
   "metadata": {},
   "outputs": [
    {
     "name": "stdout",
     "output_type": "stream",
     "text": [
      "      total_cases\n",
      "city             \n",
      "iq            520\n",
      "sj            936\n"
     ]
    }
   ],
   "source": [
    "%matplotlib inline\n",
    "\n",
    "import pandas as pd\n",
    "import numpy as np\n",
    "\n",
    "from matplotlib import pyplot as plt\n",
    "import seaborn as sns\n",
    "import statsmodels.api as sm\n",
    "\n",
    "from sklearn.ensemble import RandomForestRegressor\n",
    "from sklearn.metrics import mean_absolute_error\n",
    "from sklearn.model_selection import train_test_split\n",
    "from sklearn.preprocessing import Imputer\n",
    "\n",
    "from statsmodels.tools import eval_measures\n",
    "import statsmodels.formula.api as smf\n",
    "\n",
    "\n",
    "from warnings import filterwarnings\n",
    "filterwarnings('ignore')\n",
    "\n",
    "folder_path = './data/'\n",
    "\n",
    "t_features = pd.read_csv('data/train_features.csv', index_col=[0,1,2])\n",
    "t_labels = pd.read_csv('data/train_labels.csv', index_col=[0,1,2])\n",
    "\n",
    "print(t_labels.groupby('city').count())\n",
    "# print(t_labels.head())\n"
   ]
  },
  {
   "cell_type": "code",
   "execution_count": 5,
   "metadata": {
    "scrolled": true
   },
   "outputs": [],
   "source": [
    "features = ['reanalysis_specific_humidity_g_per_kg', \n",
    "                 'reanalysis_dew_point_temp_k', \n",
    "                 'station_avg_temp_c', \n",
    "                'station_min_temp_c',\n",
    "            'precipitation_amt_mm']\n",
    "\n",
    "\n",
    "\n",
    "\n",
    "\n",
    "def separate_and_engineer(city, data, selected_features, labels, mv1, mv2, mv3, mv4):\n",
    "    \n",
    "    data['week_start_date'] = pd.to_datetime(data['week_start_date'])\n",
    "    for i in range(1,5):\n",
    "        data['quarter_' + str(i)] = data['week_start_date'].apply(lambda date: 1 if (\n",
    "            ((i-1)*3<date.to_pydatetime().month) and (date.to_pydatetime().month <= i * 3)) else 0)\n",
    "        selected_features.append('quarter_' + str(i))\n",
    "    \n",
    "    city_train_features = data.loc[city]\n",
    "    selected_features = list(set(selected_features))\n",
    "    \n",
    "    city_train_features = city_train_features.select_dtypes(include=[np.number])\n",
    "    city_train_features = city_train_features[selected_features]\n",
    "    \n",
    "    city_train_features['station_avg_temp_c_mv_avg'] = city_train_features['station_avg_temp_c'].rolling(window=mv1).mean()\n",
    "    \n",
    "    city_train_features['precipitation_amt_mm_mv_avg'] = city_train_features['precipitation_amt_mm'].rolling(window=mv2).mean()\n",
    "    \n",
    "    city_train_features['reanalysis_specific_humidity_g_per_kg_mv_avg'] = city_train_features['reanalysis_specific_humidity_g_per_kg'].rolling(window=mv3).mean()\n",
    "    \n",
    "    city_train_features['reanalysis_dew_point_temp_k_mv_avg'] = city_train_features['reanalysis_dew_point_temp_k'].rolling(window=mv4).mean()\n",
    "    \n",
    "    \n",
    "    city_train_features = city_train_features.fillna(city_train_features.mean())\n",
    "    \n",
    "    if (type(labels) != type(None)):\n",
    "        city_train_labels = labels.loc[city]\n",
    "        city_train_labels = city_train_labels.fillna(city_train_labels.mean())\n",
    "    \n",
    "        return pd.concat([city_train_features, city_train_labels], axis=1)\n",
    "    \n",
    "    return city_train_features   \n"
   ]
  },
  {
   "cell_type": "code",
   "execution_count": 6,
   "metadata": {},
   "outputs": [],
   "source": [
    "def get_best_model(train, test):\n",
    "    # Step 1: specify the form of the model\n",
    "    model_formula = \" + \".join([\"total_cases ~ 1\",\n",
    "    \"station_avg_temp_c_mv_avg\",\n",
    "    \"precipitation_amt_mm_mv_avg\",\n",
    "    \"reanalysis_specific_humidity_g_per_kg\",\n",
    "    \"reanalysis_dew_point_temp_k\",\n",
    "    \"precipitation_amt_mm\",\n",
    "    \"station_min_temp_c\",\n",
    "    \"station_avg_temp_c\",\n",
    "    \"reanalysis_specific_humidity_g_per_kg_mv_avg\",\n",
    "    \"reanalysis_dew_point_temp_k_mv_avg\",\n",
    "                               \"quarter_1\",\n",
    "                               \"quarter_2\",\n",
    "                               \"quarter_3\",\n",
    "                               \"quarter_4\"])\n",
    "    \n",
    "    grid = 10 ** np.arange(-8, -3, dtype=np.float64)\n",
    "                    \n",
    "    best_alpha = []\n",
    "    best_score = 1000\n",
    "        \n",
    "    # Step 2: Find the best hyper parameter, alpha\n",
    "    for alpha in grid:\n",
    "        model = smf.glm(formula=model_formula,\n",
    "                        data=train,\n",
    "                        family=sm.families.NegativeBinomial(alpha=alpha))\n",
    "\n",
    "        results = model.fit()\n",
    "        predictions = results.predict(test).astype(int)\n",
    "        score = eval_measures.meanabs(predictions, test.total_cases)\n",
    "\n",
    "        if score < best_score:\n",
    "            best_alpha = alpha\n",
    "            best_score = score\n",
    "\n",
    "#     print('best alpha = ', best_alpha)\n",
    "#     print('best score = ', best_score)\n",
    "            \n",
    "    # Step 3: refit on entire dataset\n",
    "    full_dataset = pd.concat([train, test])\n",
    "    model = smf.glm(formula=model_formula,\n",
    "                    data=full_dataset,\n",
    "                    family=sm.families.NegativeBinomial(alpha=best_alpha))\n",
    "\n",
    "    fitted_model = model.fit()\n",
    "    return fitted_model, best_score"
   ]
  },
  {
   "cell_type": "code",
   "execution_count": 7,
   "metadata": {},
   "outputs": [
    {
     "name": "stdout",
     "output_type": "stream",
     "text": [
      "Best MAE (SJ):\n",
      "10.602941176470589\n",
      "\n",
      "\n",
      "Best MAE (IQ):\n",
      "3.4714285714285715\n"
     ]
    }
   ],
   "source": [
    "# sj_cols_with_missing_values = [col for col in sj_X_train.columns if sj_X_train[col].isnull().any()]\n",
    "\n",
    "sj_best_final_model = None\n",
    "iq_best_final_model = None\n",
    "\n",
    "sj_best_final_score = 1000\n",
    "iq_best_final_score = 1000\n",
    "\n",
    "sj_i_j = None\n",
    "iq_i_j = None\n",
    "\n",
    "\n",
    "# for i in range(2, 40):\n",
    "#     for j in range(2, 40):\n",
    "sj_train = separate_and_engineer('sj', t_features, features, t_labels, 22, 39, 27, 18)\n",
    "iq_train = separate_and_engineer('iq', t_features, features, t_labels, 34, 33, 2, 2)\n",
    "\n",
    "sj_train_subtrain = sj_train.head(800)\n",
    "sj_train_subtest = sj_train.tail(sj_train.shape[0] - 800)\n",
    "\n",
    "iq_train_subtrain = iq_train.head(450)\n",
    "iq_train_subtest = iq_train.tail(iq_train.shape[0] - 450)\n",
    "\n",
    "# print(\"SJ:\\n\\n\")\n",
    "\n",
    "# print(\"IQ:\\n\\n\", iq_train.head())\n",
    "\n",
    "sj_best_model, sj_best_score = get_best_model(sj_train_subtrain, sj_train_subtest)\n",
    "iq_best_model, iq_best_score = get_best_model(iq_train_subtrain, iq_train_subtest)\n",
    "\n",
    "if sj_best_score < sj_best_final_score:\n",
    "    sj_best_final_score = sj_best_score\n",
    "    sj_best_final_model = sj_best_model\n",
    "# #     sj_i_j = [i,j]\n",
    "\n",
    "if iq_best_score < iq_best_final_score:\n",
    "    iq_best_final_score = iq_best_score\n",
    "    iq_best_final_model = iq_best_model\n",
    "# #     iq_i_j = [i,j]\n",
    "\n",
    "\n",
    "print(\"Best MAE (SJ):\")\n",
    "print(sj_best_final_score)\n",
    "\n",
    "\n",
    "print(\"\\n\\nBest MAE (IQ):\")\n",
    "print(iq_best_final_score)\n",
    "# sj_train.head()\n"
   ]
  },
  {
   "cell_type": "code",
   "execution_count": 8,
   "metadata": {},
   "outputs": [
    {
     "data": {
      "text/plain": [
       "<matplotlib.legend.Legend at 0x7fc8b72b4da0>"
      ]
     },
     "execution_count": 8,
     "metadata": {},
     "output_type": "execute_result"
    },
    {
     "data": {
      "image/png": "[encoded data removed]",
      "text/plain": [
       "<Figure size 432x288 with 2 Axes>"
      ]
     },
     "metadata": {},
     "output_type": "display_data"
    }
   ],
   "source": [
    "figs, axes = plt.subplots(nrows=2, ncols=1)\n",
    "\n",
    "# plot sj\n",
    "sj_train['fitted'] = sj_best_final_model.predict(sj_train)\n",
    "sj_train.fitted.plot(ax=axes[0], label=\"Predictions\")\n",
    "sj_train.total_cases.plot(ax=axes[0], label=\"Actual\")\n",
    "\n",
    "# plot iq\n",
    "iq_train['fitted'] = iq_best_final_model.predict(iq_train)\n",
    "iq_train.fitted.plot(ax=axes[1], label=\"Predictions\")\n",
    "iq_train.total_cases.plot(ax=axes[1], label=\"Actual\")\n",
    "\n",
    "plt.suptitle(\"Dengue Predicted Cases vs. Actual Cases1\")\n",
    "plt.legend()"
   ]
  },
  {
   "cell_type": "code",
   "execution_count": 13,
   "metadata": {},
   "outputs": [],
   "source": [
    "### Random Forest model kernel submission\n",
    "###\n",
    "\n",
    "testData = pd.read_csv('data/dengue_features_test.csv', index_col=[0,1,2])\n",
    "\n",
    "sj_test = separate_and_engineer('sj', testData, features, None, 22, 39, 5, 10)\n",
    "iq_test = separate_and_engineer('iq', testData, features, None, 34, 33, 5, 10)\n",
    "\n",
    "sj_predictions = sj_best_final_model.predict(sj_test).astype(int)\n",
    "iq_predictions = iq_best_final_model.predict(iq_test).astype(int)\n",
    "\n",
    "\n",
    "submission = pd.read_csv(\"data/submission .csv\",\n",
    "                         index_col=[0, 1, 2])\n",
    "\n",
    "submission.total_cases = np.concatenate([sj_predictions, iq_predictions])\n",
    "submission.to_csv(\"benchmark_nb_5.csv\")"
   ]
  },
  {
   "cell_type": "code",
   "execution_count": null,
   "metadata": {},
   "outputs": [],
   "source": []
  }
 ],
 "metadata": {
  "kernelspec": {
   "display_name": "Python 3",
   "language": "python",
   "name": "python3"
  },
  "language_info": {
   "codemirror_mode": {
    "name": "ipython",
    "version": 3
   },
   "file_extension": ".py",
   "mimetype": "text/x-python",
   "name": "python",
   "nbconvert_exporter": "python",
   "pygments_lexer": "ipython3",
   "version": "3.5.2"
  }
 },
 "nbformat": 4,
 "nbformat_minor": 2
}
