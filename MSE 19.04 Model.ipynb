{
 "cells": [
  {
   "cell_type": "markdown",
   "metadata": {},
   "source": [
    "# Imports"
   ]
  },
  {
   "cell_type": "code",
   "execution_count": 1,
   "metadata": {},
   "outputs": [],
   "source": [
    "import pandas as pd\n",
    "import numpy as np\n",
    "from sklearn.ensemble import RandomForestRegressor\n",
    "from sklearn.metrics import mean_absolute_error\n",
    "from matplotlib import pyplot as plt\n"
   ]
  },
  {
   "cell_type": "markdown",
   "metadata": {},
   "source": [
    "# Preprocess data"
   ]
  },
  {
   "cell_type": "code",
   "execution_count": 2,
   "metadata": {},
   "outputs": [],
   "source": [
    "\n",
    "\n",
    "from sklearn.preprocessing import StandardScaler\n",
    "from scipy import stats\n",
    "\n",
    "def preprocess_data(data_path, labels_path=None):\n",
    "    features = ['reanalysis_specific_humidity_g_per_kg', \n",
    "                 'reanalysis_dew_point_temp_k', \n",
    "                 'station_avg_temp_c',\n",
    "                'precipitation_amt_mm', \n",
    "                'week_start_date']\n",
    "    df = pd.read_csv(data_path, index_col=[0, 1, 2])\n",
    "            \n",
    "    df['station_avg_temp_c_mv_avg'] = df['station_avg_temp_c'].rolling(window=50).mean()\n",
    "    features.append('station_avg_temp_c_mv_avg')\n",
    "#     features.remove('station_avg_temp_c')\n",
    "    \n",
    "    df['precipitation_amt_mm_mv_avg'] = df['precipitation_amt_mm'].rolling(window=50).mean()\n",
    "    features.append('precipitation_amt_mm_mv_avg')\n",
    "#     features.remove('precipitation_amt_mm')\n",
    "    \n",
    "    df['reanalysis_specific_humidity_g_per_kg_avg'] = df['reanalysis_specific_humidity_g_per_kg'].rolling(window=5).mean()\n",
    "    features.append('reanalysis_specific_humidity_g_per_kg_avg')\n",
    "#     features.remove('reanalysis_specific_humidity_g_per_kg')\n",
    "    \n",
    "    df['reanalysis_dew_point_temp_k_avg'] = df['reanalysis_dew_point_temp_k'].rolling(window=10).mean()\n",
    "    features.append('reanalysis_dew_point_temp_k_avg')\n",
    "#     features.remove('reanalysis_dew_point_temp_k')\n",
    "    \n",
    "    \n",
    "    df.fillna(method='ffill', inplace=True)\n",
    "    df = df.fillna(df.mean())\n",
    "    \n",
    "    df['week_start_date'] = pd.to_datetime(df['week_start_date'])\n",
    "    for i in range(1,5):\n",
    "        df['quarter_' + str(i)] = df['week_start_date'].apply(lambda date: 1 if (\n",
    "            ((i-1)*3<date.to_datetime().month) and (date.to_datetime().month <= i * 3)) else 0)\n",
    "        features.append('quarter_' + str(i))\n",
    "    \n",
    "    df = df.drop(['week_start_date'], axis=1)\n",
    "    features.remove('week_start_date')\n",
    "    df = df[features]    \n",
    "    sj_label = None\n",
    "    iq_label = None\n",
    "    # add labels to dataframe\n",
    "    if labels_path:\n",
    "        labels = pd.read_csv(labels_path, index_col=[0, 1, 2]).loc[df.index]\n",
    "        sj_label = pd.DataFrame(labels.loc['sj'])\n",
    "        iq_label = pd.DataFrame(labels.loc['iq'])\n",
    "\n",
    "    sj = pd.DataFrame(df.loc['sj'])\n",
    "    iq = pd.DataFrame(df.loc['iq'])\n",
    "    \n",
    "    \n",
    "    return sj, iq, sj_label, iq_label"
   ]
  },
  {
   "cell_type": "code",
   "execution_count": 3,
   "metadata": {},
   "outputs": [
    {
     "name": "stderr",
     "output_type": "stream",
     "text": [
      "/usr/local/lib/python3.5/dist-packages/pandas/core/series.py:2551: FutureWarning: to_datetime is deprecated. Use self.to_pydatetime()\n",
      "  mapped = lib.map_infer(values, f, convert=convert_dtype)\n"
     ]
    },
    {
     "data": {
      "text/html": [
       "<div>\n",
       "<style scoped>\n",
       "    .dataframe tbody tr th:only-of-type {\n",
       "        vertical-align: middle;\n",
       "    }\n",
       "\n",
       "    .dataframe tbody tr th {\n",
       "        vertical-align: top;\n",
       "    }\n",
       "\n",
       "    .dataframe thead th {\n",
       "        text-align: right;\n",
       "    }\n",
       "</style>\n",
       "<table border=\"1\" class=\"dataframe\">\n",
       "  <thead>\n",
       "    <tr style=\"text-align: right;\">\n",
       "      <th></th>\n",
       "      <th></th>\n",
       "      <th>reanalysis_specific_humidity_g_per_kg</th>\n",
       "      <th>reanalysis_dew_point_temp_k</th>\n",
       "      <th>station_avg_temp_c</th>\n",
       "      <th>precipitation_amt_mm</th>\n",
       "      <th>station_avg_temp_c_mv_avg</th>\n",
       "      <th>precipitation_amt_mm_mv_avg</th>\n",
       "      <th>reanalysis_specific_humidity_g_per_kg_avg</th>\n",
       "      <th>reanalysis_dew_point_temp_k_avg</th>\n",
       "      <th>quarter_1</th>\n",
       "      <th>quarter_2</th>\n",
       "      <th>quarter_3</th>\n",
       "      <th>quarter_4</th>\n",
       "    </tr>\n",
       "    <tr>\n",
       "      <th>year</th>\n",
       "      <th>weekofyear</th>\n",
       "      <th></th>\n",
       "      <th></th>\n",
       "      <th></th>\n",
       "      <th></th>\n",
       "      <th></th>\n",
       "      <th></th>\n",
       "      <th></th>\n",
       "      <th></th>\n",
       "      <th></th>\n",
       "      <th></th>\n",
       "      <th></th>\n",
       "      <th></th>\n",
       "    </tr>\n",
       "  </thead>\n",
       "  <tbody>\n",
       "    <tr>\n",
       "      <th rowspan=\"5\" valign=\"top\">1990</th>\n",
       "      <th>18</th>\n",
       "      <td>14.012857</td>\n",
       "      <td>292.414286</td>\n",
       "      <td>25.442857</td>\n",
       "      <td>12.42</td>\n",
       "      <td>27.041766</td>\n",
       "      <td>44.730679</td>\n",
       "      <td>16.763206</td>\n",
       "      <td>295.297951</td>\n",
       "      <td>0</td>\n",
       "      <td>1</td>\n",
       "      <td>0</td>\n",
       "      <td>0</td>\n",
       "    </tr>\n",
       "    <tr>\n",
       "      <th>19</th>\n",
       "      <td>15.372857</td>\n",
       "      <td>293.951429</td>\n",
       "      <td>26.714286</td>\n",
       "      <td>22.82</td>\n",
       "      <td>27.041766</td>\n",
       "      <td>44.730679</td>\n",
       "      <td>16.763206</td>\n",
       "      <td>295.297951</td>\n",
       "      <td>0</td>\n",
       "      <td>1</td>\n",
       "      <td>0</td>\n",
       "      <td>0</td>\n",
       "    </tr>\n",
       "    <tr>\n",
       "      <th>20</th>\n",
       "      <td>16.848571</td>\n",
       "      <td>295.434286</td>\n",
       "      <td>26.714286</td>\n",
       "      <td>34.54</td>\n",
       "      <td>27.041766</td>\n",
       "      <td>44.730679</td>\n",
       "      <td>16.763206</td>\n",
       "      <td>295.297951</td>\n",
       "      <td>0</td>\n",
       "      <td>1</td>\n",
       "      <td>0</td>\n",
       "      <td>0</td>\n",
       "    </tr>\n",
       "    <tr>\n",
       "      <th>21</th>\n",
       "      <td>16.672857</td>\n",
       "      <td>295.310000</td>\n",
       "      <td>27.471429</td>\n",
       "      <td>15.36</td>\n",
       "      <td>27.041766</td>\n",
       "      <td>44.730679</td>\n",
       "      <td>16.763206</td>\n",
       "      <td>295.297951</td>\n",
       "      <td>0</td>\n",
       "      <td>1</td>\n",
       "      <td>0</td>\n",
       "      <td>0</td>\n",
       "    </tr>\n",
       "    <tr>\n",
       "      <th>22</th>\n",
       "      <td>17.210000</td>\n",
       "      <td>295.821429</td>\n",
       "      <td>28.942857</td>\n",
       "      <td>7.52</td>\n",
       "      <td>27.041766</td>\n",
       "      <td>44.730679</td>\n",
       "      <td>16.023429</td>\n",
       "      <td>295.297951</td>\n",
       "      <td>0</td>\n",
       "      <td>1</td>\n",
       "      <td>0</td>\n",
       "      <td>0</td>\n",
       "    </tr>\n",
       "  </tbody>\n",
       "</table>\n",
       "</div>"
      ],
      "text/plain": [
       "                 reanalysis_specific_humidity_g_per_kg  \\\n",
       "year weekofyear                                          \n",
       "1990 18                                      14.012857   \n",
       "     19                                      15.372857   \n",
       "     20                                      16.848571   \n",
       "     21                                      16.672857   \n",
       "     22                                      17.210000   \n",
       "\n",
       "                 reanalysis_dew_point_temp_k  station_avg_temp_c  \\\n",
       "year weekofyear                                                    \n",
       "1990 18                           292.414286           25.442857   \n",
       "     19                           293.951429           26.714286   \n",
       "     20                           295.434286           26.714286   \n",
       "     21                           295.310000           27.471429   \n",
       "     22                           295.821429           28.942857   \n",
       "\n",
       "                 precipitation_amt_mm  station_avg_temp_c_mv_avg  \\\n",
       "year weekofyear                                                    \n",
       "1990 18                         12.42                  27.041766   \n",
       "     19                         22.82                  27.041766   \n",
       "     20                         34.54                  27.041766   \n",
       "     21                         15.36                  27.041766   \n",
       "     22                          7.52                  27.041766   \n",
       "\n",
       "                 precipitation_amt_mm_mv_avg  \\\n",
       "year weekofyear                                \n",
       "1990 18                            44.730679   \n",
       "     19                            44.730679   \n",
       "     20                            44.730679   \n",
       "     21                            44.730679   \n",
       "     22                            44.730679   \n",
       "\n",
       "                 reanalysis_specific_humidity_g_per_kg_avg  \\\n",
       "year weekofyear                                              \n",
       "1990 18                                          16.763206   \n",
       "     19                                          16.763206   \n",
       "     20                                          16.763206   \n",
       "     21                                          16.763206   \n",
       "     22                                          16.023429   \n",
       "\n",
       "                 reanalysis_dew_point_temp_k_avg  quarter_1  quarter_2  \\\n",
       "year weekofyear                                                          \n",
       "1990 18                               295.297951          0          1   \n",
       "     19                               295.297951          0          1   \n",
       "     20                               295.297951          0          1   \n",
       "     21                               295.297951          0          1   \n",
       "     22                               295.297951          0          1   \n",
       "\n",
       "                 quarter_3  quarter_4  \n",
       "year weekofyear                        \n",
       "1990 18                  0          0  \n",
       "     19                  0          0  \n",
       "     20                  0          0  \n",
       "     21                  0          0  \n",
       "     22                  0          0  "
      ]
     },
     "execution_count": 3,
     "metadata": {},
     "output_type": "execute_result"
    }
   ],
   "source": [
    "sj_train, iq_train, sj_label, iq_label = preprocess_data('./data/train_features.csv', './data/train_labels.csv')\n",
    "sj_train.head()"
   ]
  },
  {
   "cell_type": "markdown",
   "metadata": {},
   "source": [
    "# Split validation and training"
   ]
  },
  {
   "cell_type": "code",
   "execution_count": 4,
   "metadata": {},
   "outputs": [],
   "source": [
    "from sklearn.model_selection import train_test_split\n",
    "\n",
    "# split data into training and validation data, for both predictors and target\n",
    "# The split is based on a random number generator. Supplying a numeric value to\n",
    "# the random_state argument guarantees we get the same split every time we\n",
    "# run this script.\n",
    "\n",
    "# sj_train.head()\n",
    "\n",
    "sj_train_X, sj_test_X, sj_train_y, sj_test_y = train_test_split(sj_train, sj_label['total_cases'], test_size=0.1, random_state=0, shuffle=False)\n",
    "\n",
    "iq_train_X, iq_test_X, iq_train_y, iq_test_y = train_test_split(iq_train, iq_label['total_cases'], test_size=0.25, random_state=0, shuffle=False)"
   ]
  },
  {
   "cell_type": "markdown",
   "metadata": {},
   "source": [
    "# Train Model"
   ]
  },
  {
   "cell_type": "code",
   "execution_count": 6,
   "metadata": {},
   "outputs": [
    {
     "name": "stdout",
     "output_type": "stream",
     "text": [
      "SJ 13.832686170212765\n",
      "IQ 7.752115384615385\n"
     ]
    }
   ],
   "source": [
    "sj_model = RandomForestRegressor(n_estimators=200, max_depth=6,\n",
    "                                 criterion='mae', warm_start=True)\n",
    "\n",
    "sj_model.fit(sj_train_X, sj_train_y)\n",
    "sj_pred_val = sj_model.predict(sj_test_X)\n",
    "\n",
    "print(\"SJ \" + str(mean_absolute_error(sj_test_y, sj_pred_val)))\n",
    "\n",
    "iq_model = RandomForestRegressor(n_estimators=20, max_features='auto',\n",
    "                                 max_depth=6, min_samples_leaf=0.005,\n",
    "                                 criterion='mae', min_weight_fraction_leaf=0.1\n",
    "                                , warm_start=True)\n",
    "\n",
    "iq_model.fit(iq_train_X, iq_train_y)\n",
    "iq_pred_val = iq_model.predict(iq_test_X)\n",
    "\n",
    "print(\"IQ \" + str(mean_absolute_error(iq_test_y, iq_pred_val)))\n"
   ]
  },
  {
   "cell_type": "markdown",
   "metadata": {},
   "source": [
    "# Plot predictions"
   ]
  },
  {
   "cell_type": "code",
   "execution_count": 11,
   "metadata": {},
   "outputs": [
    {
     "data": {
      "text/plain": [
       "<matplotlib.legend.Legend at 0x7f16e3f29d30>"
      ]
     },
     "execution_count": 11,
     "metadata": {},
     "output_type": "execute_result"
    },
    {
     "data": {
      "image/png": "[encoded data removed]",
      "text/plain": [
       "<Figure size 432x288 with 2 Axes>"
      ]
     },
     "metadata": {},
     "output_type": "display_data"
    }
   ],
   "source": [
    "figs, axes = plt.subplots(nrows=2, ncols=1)\n",
    "\n",
    "# plot sj\n",
    "pd.DataFrame(sj_pred_val).plot(ax=axes[0], label=\"Predictions\")\n",
    "sj_test_y.plot(ax=axes[0], label=\"Actual\")\n",
    "\n",
    "# plot iq\n",
    "pd.DataFrame(iq_pred_val).plot(ax=axes[1], label=\"Predictions\")\n",
    "iq_test_y.plot(ax=axes[1], label=\"Actual\")\n",
    "\n",
    "plt.suptitle(\"Dengue Predicted Cases vs. Actual Cases\")\n",
    "plt.legend()"
   ]
  },
  {
   "cell_type": "markdown",
   "metadata": {},
   "source": [
    "# Save predictions"
   ]
  },
  {
   "cell_type": "code",
   "execution_count": 12,
   "metadata": {},
   "outputs": [
    {
     "name": "stderr",
     "output_type": "stream",
     "text": [
      "/usr/local/lib/python3.5/dist-packages/pandas/core/series.py:2551: FutureWarning: to_datetime is deprecated. Use self.to_pydatetime()\n",
      "  mapped = lib.map_infer(values, f, convert=convert_dtype)\n"
     ]
    }
   ],
   "source": [
    "\n",
    "sj_test, iq_test, sj_test_label, iq_test_label = preprocess_data('./data/dengue_features_test.csv')\n",
    "\n",
    "sj_predictions = sj_model.predict(sj_test).astype(int)\n",
    "iq_predictions = iq_model.predict(iq_test).astype(int)\n",
    "\n",
    "submission = pd.read_csv(\"./data/submission .csv\", index_col=[0, 1, 2])\n",
    "\n",
    "submission.total_cases = np.concatenate([sj_predictions, iq_predictions])\n",
    "\n",
    "submission.to_csv(\"./results/new_submission.csv\")"
   ]
  },
  {
   "cell_type": "markdown",
   "metadata": {},
   "source": [
    "# Compare benchmarks"
   ]
  },
  {
   "cell_type": "code",
   "execution_count": 8,
   "metadata": {},
   "outputs": [
    {
     "name": "stdout",
     "output_type": "stream",
     "text": [
      "Comparison : MAE : 1.5240384615384615\n"
     ]
    },
    {
     "data": {
      "image/png": "[encoded data removed]",
      "text/plain": [
       "<Figure size 432x288 with 2 Axes>"
      ]
     },
     "metadata": {},
     "output_type": "display_data"
    }
   ],
   "source": [
    "benchmark = pd.read_csv('./results/best.csv')\n",
    "submission = pd.read_csv('./results/2_submission_latest.csv')\n",
    "\n",
    "\n",
    "# adder = lambda x: x + 10\n",
    "# formated_total_cases = submission['total_cases'].apply(adder)\n",
    "\n",
    "# print(formated_total_cases)\n",
    "\n",
    "figs, axes = plt.subplots(nrows=2, ncols=1)\n",
    "\n",
    "# # submission = submission.iloc[50:]\n",
    "# plot sj\n",
    "benchmark.total_cases.plot(ax=axes[0], label=\"Actual\")\n",
    "submission.total_cases.plot(ax=axes[0], label=\"Predictions\")\n",
    "    \n",
    "\n",
    "# plt.suptitle(\"Dengue Predicted Cases vs. Actual Cases\")\n",
    "# plt.legend()\n",
    "\n",
    "# plt.show()\n",
    "\n",
    "print(\"Comparison : MAE : \" + str(mean_absolute_error(benchmark.total_cases, submission.total_cases)))"
   ]
  },
  {
   "cell_type": "code",
   "execution_count": null,
   "metadata": {},
   "outputs": [],
   "source": []
  },
  {
   "cell_type": "code",
   "execution_count": null,
   "metadata": {},
   "outputs": [],
   "source": []
  }
 ],
 "metadata": {
  "kernelspec": {
   "display_name": "Python 3",
   "language": "python",
   "name": "python3"
  },
  "language_info": {
   "codemirror_mode": {
    "name": "ipython",
    "version": 3
   },
   "file_extension": ".py",
   "mimetype": "text/x-python",
   "name": "python",
   "nbconvert_exporter": "python",
   "pygments_lexer": "ipython3",
   "version": "3.5.2"
  }
 },
 "nbformat": 4,
 "nbformat_minor": 2
}
